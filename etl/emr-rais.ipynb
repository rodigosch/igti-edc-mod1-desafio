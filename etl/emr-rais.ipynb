{
 "cells": [
  {
   "cell_type": "markdown",
   "id": "e0ab6ed8-f798-4481-95c3-8d6b8b66a02b",
   "metadata": {},
   "source": [
    "# RAIS 2020 - IGTI - EDC - Desafio Final"
   ]
  },
  {
   "cell_type": "code",
   "execution_count": 1,
   "id": "78873106-50ad-47c0-add4-96580cb36d4f",
   "metadata": {
    "execution": {
     "iopub.execute_input": "2022-03-13T23:10:16.958998Z",
     "iopub.status.busy": "2022-03-13T23:10:16.958644Z",
     "iopub.status.idle": "2022-03-13T23:10:45.895886Z",
     "shell.execute_reply": "2022-03-13T23:10:45.895194Z",
     "shell.execute_reply.started": "2022-03-13T23:10:16.958967Z"
    },
    "tags": []
   },
   "outputs": [
    {
     "data": {
      "application/vnd.jupyter.widget-view+json": {
       "model_id": "e4f39b18a9c74a8f928a9dad7cc41c94",
       "version_major": 2,
       "version_minor": 0
      },
      "text/plain": [
       "VBox()"
      ]
     },
     "metadata": {},
     "output_type": "display_data"
    },
    {
     "name": "stdout",
     "output_type": "stream",
     "text": [
      "Starting Spark application\n"
     ]
    },
    {
     "data": {
      "text/html": [
       "<table>\n",
       "<tr><th>ID</th><th>YARN Application ID</th><th>Kind</th><th>State</th><th>Spark UI</th><th>Driver log</th><th>Current session?</th></tr><tr><td>1</td><td>application_1647210055072_0003</td><td>pyspark</td><td>idle</td><td><a target=\"_blank\" href=\"http://ip-172-31-19-95.us-east-2.compute.internal:20888/proxy/application_1647210055072_0003/\" class=\"emr-proxy-link\" emr-resource=\"j-36HQZ8XSIGZ6N\n",
       "\" application-id=\"application_1647210055072_0003\">Link</a></td><td><a target=\"_blank\" href=\"http://ip-172-31-18-0.us-east-2.compute.internal:8042/node/containerlogs/container_1647210055072_0003_01_000001/livy\" >Link</a></td><td>✔</td></tr></table>"
      ],
      "text/plain": [
       "<IPython.core.display.HTML object>"
      ]
     },
     "metadata": {},
     "output_type": "display_data"
    },
    {
     "data": {
      "application/vnd.jupyter.widget-view+json": {
       "model_id": "",
       "version_major": 2,
       "version_minor": 0
      },
      "text/plain": [
       "FloatProgress(value=0.0, bar_style='info', description='Progress:', layout=Layout(height='25px', width='50%'),…"
      ]
     },
     "metadata": {},
     "output_type": "display_data"
    },
    {
     "name": "stdout",
     "output_type": "stream",
     "text": [
      "SparkSession available as 'spark'.\n"
     ]
    },
    {
     "data": {
      "application/vnd.jupyter.widget-view+json": {
       "model_id": "",
       "version_major": 2,
       "version_minor": 0
      },
      "text/plain": [
       "FloatProgress(value=0.0, bar_style='info', description='Progress:', layout=Layout(height='25px', width='50%'),…"
      ]
     },
     "metadata": {},
     "output_type": "display_data"
    }
   ],
   "source": [
    "from pyspark.sql import functions as f\n",
    "from pyspark.sql import SparkSession"
   ]
  },
  {
   "cell_type": "markdown",
   "id": "fce6ca85-74d2-490d-a114-c0fa5450c10c",
   "metadata": {
    "tags": []
   },
   "source": [
    "## Transforma os dados em Parquet"
   ]
  },
  {
   "cell_type": "code",
   "execution_count": null,
   "id": "4427bca5-3ca6-4d4a-b96d-925765fa4f96",
   "metadata": {
    "execution": {
     "iopub.execute_input": "2022-03-13T23:10:45.897513Z",
     "iopub.status.busy": "2022-03-13T23:10:45.897236Z",
     "iopub.status.idle": "2022-03-13T23:13:39.831796Z"
    },
    "tags": []
   },
   "outputs": [
    {
     "data": {
      "application/vnd.jupyter.widget-view+json": {
       "model_id": "d0aa7344ed8643d8b42bc83b948b0ee0",
       "version_major": 2,
       "version_minor": 0
      },
      "text/plain": [
       "VBox()"
      ]
     },
     "metadata": {},
     "output_type": "display_data"
    },
    {
     "data": {
      "application/vnd.jupyter.widget-view+json": {
       "model_id": "",
       "version_major": 2,
       "version_minor": 0
      },
      "text/plain": [
       "FloatProgress(value=0.0, bar_style='info', description='Progress:', layout=Layout(height='25px', width='50%'),…"
      ]
     },
     "metadata": {},
     "output_type": "display_data"
    },
    {
     "name": "stdout",
     "output_type": "stream",
     "text": [
      "root\n",
      " |-- Bairros SP: string (nullable = true)\n",
      " |-- Bairros Fortaleza: string (nullable = true)\n",
      " |-- Bairros RJ: string (nullable = true)\n",
      " |-- Causa Afastamento 1: integer (nullable = true)\n",
      " |-- Causa Afastamento 2: integer (nullable = true)\n",
      " |-- Causa Afastamento 3: integer (nullable = true)\n",
      " |-- Motivo Desligamento: integer (nullable = true)\n",
      " |-- CBO Ocupação 2002: string (nullable = true)\n",
      " |-- CNAE 2.0 Classe: integer (nullable = true)\n",
      " |-- CNAE 95 Classe: integer (nullable = true)\n",
      " |-- Distritos SP: string (nullable = true)\n",
      " |-- Vínculo Ativo 31/12: integer (nullable = true)\n",
      " |-- Faixa Etária: integer (nullable = true)\n",
      " |-- Faixa Hora Contrat: integer (nullable = true)\n",
      " |-- Faixa Remun Dezem (SM): integer (nullable = true)\n",
      " |-- Faixa Remun Média (SM): integer (nullable = true)\n",
      " |-- Faixa Tempo Emprego: integer (nullable = true)\n",
      " |-- Escolaridade após 2005: double (nullable = true)\n",
      " |-- Qtd Hora Contr: double (nullable = true)\n",
      " |-- Idade: double (nullable = true)\n",
      " |-- Ind CEI Vinculado: integer (nullable = true)\n",
      " |-- Ind Simples: integer (nullable = true)\n",
      " |-- Mês Admissão: integer (nullable = true)\n",
      " |-- Mês Desligamento: string (nullable = true)\n",
      " |-- Mun Trab: integer (nullable = true)\n",
      " |-- Município: integer (nullable = true)\n",
      " |-- Nacionalidade: integer (nullable = true)\n",
      " |-- Natureza Jurídica: integer (nullable = true)\n",
      " |-- Ind Portador Defic: integer (nullable = true)\n",
      " |-- Qtd Dias Afastamento: double (nullable = true)\n",
      " |-- Raça Cor: integer (nullable = true)\n",
      " |-- Regiões Adm DF: integer (nullable = true)\n",
      " |-- Vl Remun Dezembro Nom: string (nullable = true)\n",
      " |-- Vl Remun Dezembro (SM): string (nullable = true)\n",
      " |-- Vl Remun Média Nom: string (nullable = true)\n",
      " |-- Vl Remun Média (SM): string (nullable = true)\n",
      " |-- CNAE 2.0 Subclasse: integer (nullable = true)\n",
      " |-- Sexo Trabalhador: double (nullable = true)\n",
      " |-- Tamanho Estabelecimento: integer (nullable = true)\n",
      " |-- Tempo Emprego: string (nullable = true)\n",
      " |-- Tipo Admissão: integer (nullable = true)\n",
      " |-- Tipo Estab41: integer (nullable = true)\n",
      " |-- Tipo Estab42: string (nullable = true)\n",
      " |-- Tipo Defic: integer (nullable = true)\n",
      " |-- Tipo Vínculo: integer (nullable = true)\n",
      " |-- IBGE Subsetor: integer (nullable = true)\n",
      " |-- Vl Rem Janeiro SC: string (nullable = true)\n",
      " |-- Vl Rem Fevereiro SC: string (nullable = true)\n",
      " |-- Vl Rem Março SC: string (nullable = true)\n",
      " |-- Vl Rem Abril SC: string (nullable = true)\n",
      " |-- Vl Rem Maio SC: string (nullable = true)\n",
      " |-- Vl Rem Junho SC: string (nullable = true)\n",
      " |-- Vl Rem Julho SC: string (nullable = true)\n",
      " |-- Vl Rem Agosto SC: string (nullable = true)\n",
      " |-- Vl Rem Setembro SC: string (nullable = true)\n",
      " |-- Vl Rem Outubro SC: string (nullable = true)\n",
      " |-- Vl Rem Novembro SC: string (nullable = true)\n",
      " |-- Ano Chegada Brasil: integer (nullable = true)\n",
      " |-- Ind Trab Intermitente: integer (nullable = true)\n",
      " |-- Ind Trab Parcial: integer (nullable = true)\n",
      " |-- ano: integer (nullable = true)"
     ]
    }
   ],
   "source": [
    "rais = (\n",
    "    spark.read\n",
    "    .csv(\"s3://igti-rodrigo-rais-prod-landing-zone-473297513108/rais/\", inferSchema=True, header=True, sep=';', encoding=\"latin1\")\n",
    ")\n",
    "\n",
    "rais.printSchema()"
   ]
  },
  {
   "cell_type": "markdown",
   "id": "b1c2f28e-d1ba-47a2-8a9e-c6b313444479",
   "metadata": {},
   "source": [
    "### Primeira coisa importante: corrigir os nomes das colunas"
   ]
  },
  {
   "cell_type": "code",
   "execution_count": null,
   "id": "ce2cd656-8ad7-45bc-87ca-f3cb8453698a",
   "metadata": {},
   "outputs": [],
   "source": [
    "rais.select(rais.columns[7]).show(10)"
   ]
  },
  {
   "cell_type": "raw",
   "id": "368e5fa4-4afb-418e-b902-7d99f838da1c",
   "metadata": {
    "tags": []
   },
   "source": [
    "for ind, col in zip(range(len(rais.columns)) ,rais.columns):\n",
    "    print(col, ind)"
   ]
  },
  {
   "cell_type": "code",
   "execution_count": 3,
   "id": "39101411-89e5-45c8-bd1e-6aac828a643d",
   "metadata": {
    "execution": {
     "iopub.execute_input": "2022-03-13T23:16:45.203985Z",
     "iopub.status.busy": "2022-03-13T23:16:45.203697Z",
     "iopub.status.idle": "2022-03-13T23:16:46.497564Z",
     "shell.execute_reply": "2022-03-13T23:16:46.496800Z",
     "shell.execute_reply.started": "2022-03-13T23:16:45.203955Z"
    },
    "tags": []
   },
   "outputs": [
    {
     "data": {
      "application/vnd.jupyter.widget-view+json": {
       "model_id": "8e75cbf872be448394b63727ac399d66",
       "version_major": 2,
       "version_minor": 0
      },
      "text/plain": [
       "VBox()"
      ]
     },
     "metadata": {},
     "output_type": "display_data"
    },
    {
     "data": {
      "application/vnd.jupyter.widget-view+json": {
       "model_id": "",
       "version_major": 2,
       "version_minor": 0
      },
      "text/plain": [
       "FloatProgress(value=0.0, bar_style='info', description='Progress:', layout=Layout(height='25px', width='50%'),…"
      ]
     },
     "metadata": {},
     "output_type": "display_data"
    }
   ],
   "source": [
    "rais = (\n",
    "    rais\n",
    "    .withColumnRenamed('Bairros SP', 'bairros_sp')\n",
    "    .withColumnRenamed('Bairros Fortaleza', 'bairros_fortaleza')\n",
    "    .withColumnRenamed('Bairros RJ', 'bairros_rj')\n",
    "    .withColumnRenamed('Causa Afastamento 1', 'causa_afastamento_1')\n",
    "    .withColumnRenamed('Causa Afastamento 2', 'causa_afastamento_2')\n",
    "    .withColumnRenamed('Causa Afastamento 3', 'causa_afastamento_3')\n",
    "    .withColumnRenamed('Motivo Desligamento', 'motivo_desligamento')\n",
    "    .withColumnRenamed(rais.columns[7], 'cbo_ocupacao_2002')\n",
    "    .withColumnRenamed('CNAE 2.0 Classe', 'cnae_2_0_classe')\n",
    "    .withColumnRenamed('CNAE 95 Classe', 'cnae_95_classe')\n",
    "    .withColumnRenamed('Distritos SP', 'distritos_sp')\n",
    "    .withColumnRenamed(rais.columns[11], 'vinculo_ativo_31_12')\n",
    "    .withColumnRenamed(rais.columns[12], 'faixa_etaria')\n",
    "    .withColumnRenamed('Faixa Hora Contrat', 'faixa_hora_contrat')\n",
    "    .withColumnRenamed('Faixa Remun Dezem (SM)', 'faixa_remun_dezem_sm')\n",
    "    .withColumnRenamed(rais.columns[15], 'faixa_remun_media_sm')\n",
    "    .withColumnRenamed('Faixa Tempo Emprego', 'faixa_tempo_emprego')\n",
    "    .withColumnRenamed(rais.columns[17], 'escolaridade_apos_2005')\n",
    "    .withColumnRenamed('Qtd Hora Contr', 'qtd_hora_contr')\n",
    "    .withColumnRenamed('Idade', 'idade')\n",
    "    .withColumnRenamed('Ind CEI Vinculado', 'ind_cei_vinculado')\n",
    "    .withColumnRenamed('Ind Simples', 'ind_simples')\n",
    "    .withColumnRenamed(rais.columns[22], 'mes_admissao')\n",
    "    .withColumnRenamed(rais.columns[23], 'mes_desligamento')\n",
    "    .withColumnRenamed('Mun Trab', 'mun_trab')\n",
    "    .withColumnRenamed(rais.columns[25], 'municipio')\n",
    "    .withColumnRenamed('Nacionalidade', 'nacionalidade')\n",
    "    .withColumnRenamed(rais.columns[27], 'natureza_juridica')\n",
    "    .withColumnRenamed('Ind Portador Defic', 'ind_portador_defic')\n",
    "    .withColumnRenamed('Qtd Dias Afastamento', 'qtd_dias_afastamento')\n",
    "    .withColumnRenamed(rais.columns[30], 'raca_cor')\n",
    "    .withColumnRenamed(rais.columns[31], 'regioes_adm_df')\n",
    "    .withColumnRenamed('Vl Remun Dezembro Nom', 'vl_remun_dezembro_nom')\n",
    "    .withColumnRenamed('Vl Remun Dezembro (SM)', 'vl_remun_dezembro_sm')\n",
    "    .withColumnRenamed(rais.columns[34], 'vl_remun_media_nom')\n",
    "    .withColumnRenamed(rais.columns[35], 'vl_remun_media_sm')\n",
    "    .withColumnRenamed('CNAE 2.0 Subclasse', 'cnae_2_0_subclasse')\n",
    "    .withColumnRenamed('Sexo Trabalhador', 'sexo_trabalhador')\n",
    "    .withColumnRenamed('Tamanho Estabelecimento', 'tamanho_estabelecimento')\n",
    "    .withColumnRenamed('Tempo Emprego', 'tempo_emprego')\n",
    "    .withColumnRenamed(rais.columns[40], 'tipo_admissao')\n",
    "    .withColumnRenamed('Tipo Estab41', 'tipo_estab41')\n",
    "    .withColumnRenamed('Tipo Estab42', 'tipo_estab42')\n",
    "    .withColumnRenamed('Tipo Defic', 'tipo_defic')\n",
    "    .withColumnRenamed(rais.columns[44], 'tipo_vinculo')\n",
    "    .withColumnRenamed('IBGE Subsetor', 'ibge_subsetor')\n",
    "    .withColumnRenamed('Vl Rem Janeiro SC', 'vl_rem_janeiro_sc')\n",
    "    .withColumnRenamed('Vl Rem Fevereiro SC', 'vl_rem_fevereiro_sc')\n",
    "    .withColumnRenamed(rais.columns[48], 'vl_rem_marco_sc')\n",
    "    .withColumnRenamed('Vl Rem Abril SC', 'vl_rem_abril_sc')\n",
    "    .withColumnRenamed('Vl Rem Maio SC', 'vl_rem_maio_sc')\n",
    "    .withColumnRenamed('Vl Rem Junho SC', 'vl_rem_junho_sc')\n",
    "    .withColumnRenamed('Vl Rem Julho SC', 'vl_rem_julho_sc')\n",
    "    .withColumnRenamed('Vl Rem Agosto SC', 'vl_rem_agosto_sc')\n",
    "    .withColumnRenamed('Vl Rem Setembro SC', 'vl_rem_setembro_sc')\n",
    "    .withColumnRenamed('Vl Rem Outubro SC', 'vl_rem_outubro_sc')\n",
    "    .withColumnRenamed('Vl Rem Novembro SC', 'vl_rem_novembro_sc')\n",
    "    .withColumnRenamed('Ano Chegada Brasil', 'ano_chegada_brasil')\n",
    "    .withColumnRenamed('Ind Trab Intermitente', 'ind_trab_intermitente')\n",
    "    .withColumnRenamed('Ind Trab Parcial', 'ind_trab_parcial')\n",
    ")"
   ]
  },
  {
   "cell_type": "code",
   "execution_count": null,
   "id": "0869e725-48cf-483e-8035-b1d1206babd4",
   "metadata": {
    "tags": []
   },
   "outputs": [],
   "source": [
    "rais.select('ibge_subsetor').limit(10).show()"
   ]
  },
  {
   "cell_type": "code",
   "execution_count": 4,
   "id": "37cdb839-f5c7-4498-844a-2f0664acce71",
   "metadata": {
    "execution": {
     "iopub.execute_input": "2022-03-13T23:16:51.132267Z",
     "iopub.status.busy": "2022-03-13T23:16:51.132026Z",
     "iopub.status.idle": "2022-03-13T23:16:51.907051Z",
     "shell.execute_reply": "2022-03-13T23:16:51.906304Z",
     "shell.execute_reply.started": "2022-03-13T23:16:51.132243Z"
    }
   },
   "outputs": [
    {
     "data": {
      "application/vnd.jupyter.widget-view+json": {
       "model_id": "2940c3c7411f490dbf47c2039a7626cc",
       "version_major": 2,
       "version_minor": 0
      },
      "text/plain": [
       "VBox()"
      ]
     },
     "metadata": {},
     "output_type": "display_data"
    },
    {
     "data": {
      "application/vnd.jupyter.widget-view+json": {
       "model_id": "",
       "version_major": 2,
       "version_minor": 0
      },
      "text/plain": [
       "FloatProgress(value=0.0, bar_style='info', description='Progress:', layout=Layout(height='25px', width='50%'),…"
      ]
     },
     "metadata": {},
     "output_type": "display_data"
    },
    {
     "name": "stdout",
     "output_type": "stream",
     "text": [
      "241"
     ]
    }
   ],
   "source": [
    "rais.rdd.getNumPartitions()"
   ]
  },
  {
   "cell_type": "markdown",
   "id": "0ff6cbbb-77d8-4363-8e1b-681e0b4f3357",
   "metadata": {
    "tags": []
   },
   "source": [
    "### Construindo a variável de uf"
   ]
  },
  {
   "cell_type": "code",
   "execution_count": null,
   "id": "8bb56a53-03cf-4b26-b8bf-0f462a43174b",
   "metadata": {
    "tags": []
   },
   "outputs": [],
   "source": [
    "# Para que o comando explain() funcione\n",
    "from py4j.java_gateway import java_import\n",
    "java_import(spark._sc._jvm, \"org.apache.spark.sql.api.python.*\")"
   ]
  },
  {
   "cell_type": "code",
   "execution_count": 5,
   "id": "9f747b15-70f5-4fe7-8c2b-5700607ebcfd",
   "metadata": {
    "execution": {
     "iopub.execute_input": "2022-03-13T23:17:00.989160Z",
     "iopub.status.busy": "2022-03-13T23:17:00.988926Z",
     "iopub.status.idle": "2022-03-13T23:17:01.263960Z",
     "shell.execute_reply": "2022-03-13T23:17:01.263052Z",
     "shell.execute_reply.started": "2022-03-13T23:17:00.989136Z"
    },
    "tags": []
   },
   "outputs": [
    {
     "data": {
      "application/vnd.jupyter.widget-view+json": {
       "model_id": "49b5e21c927f45c791b9e819b9fd2eb4",
       "version_major": 2,
       "version_minor": 0
      },
      "text/plain": [
       "VBox()"
      ]
     },
     "metadata": {},
     "output_type": "display_data"
    },
    {
     "data": {
      "application/vnd.jupyter.widget-view+json": {
       "model_id": "",
       "version_major": 2,
       "version_minor": 0
      },
      "text/plain": [
       "FloatProgress(value=0.0, bar_style='info', description='Progress:', layout=Layout(height='25px', width='50%'),…"
      ]
     },
     "metadata": {},
     "output_type": "display_data"
    }
   ],
   "source": [
    "rais = rais.withColumn(\"uf\", f.col(\"municipio\").cast('string').substr(1,2).cast('int'))"
   ]
  },
  {
   "cell_type": "markdown",
   "id": "be82176f-5d08-4c78-af07-823a898b754e",
   "metadata": {},
   "source": [
    "### Corrigindo tipos das variáveis de renda e mês de desligamento"
   ]
  },
  {
   "cell_type": "code",
   "execution_count": 6,
   "id": "39b3d234-cfd8-4b33-8b91-f0dee9cf4a3b",
   "metadata": {
    "execution": {
     "iopub.execute_input": "2022-03-13T23:17:03.543532Z",
     "iopub.status.busy": "2022-03-13T23:17:03.543278Z",
     "iopub.status.idle": "2022-03-13T23:17:03.607183Z",
     "shell.execute_reply": "2022-03-13T23:17:03.606144Z",
     "shell.execute_reply.started": "2022-03-13T23:17:03.543506Z"
    },
    "scrolled": true,
    "tags": []
   },
   "outputs": [
    {
     "data": {
      "application/vnd.jupyter.widget-view+json": {
       "model_id": "f6186dc93abc4e799f55030f197ce2a3",
       "version_major": 2,
       "version_minor": 0
      },
      "text/plain": [
       "VBox()"
      ]
     },
     "metadata": {},
     "output_type": "display_data"
    },
    {
     "data": {
      "application/vnd.jupyter.widget-view+json": {
       "model_id": "",
       "version_major": 2,
       "version_minor": 0
      },
      "text/plain": [
       "FloatProgress(value=0.0, bar_style='info', description='Progress:', layout=Layout(height='25px', width='50%'),…"
      ]
     },
     "metadata": {},
     "output_type": "display_data"
    },
    {
     "name": "stdout",
     "output_type": "stream",
     "text": [
      "root\n",
      " |-- bairros_sp: string (nullable = true)\n",
      " |-- bairros_fortaleza: string (nullable = true)\n",
      " |-- bairros_rj: string (nullable = true)\n",
      " |-- causa_afastamento_1: integer (nullable = true)\n",
      " |-- causa_afastamento_2: integer (nullable = true)\n",
      " |-- causa_afastamento_3: integer (nullable = true)\n",
      " |-- motivo_desligamento: integer (nullable = true)\n",
      " |-- cbo_ocupacao_2002: string (nullable = true)\n",
      " |-- cnae_2_0_classe: integer (nullable = true)\n",
      " |-- cnae_95_classe: integer (nullable = true)\n",
      " |-- distritos_sp: string (nullable = true)\n",
      " |-- vinculo_ativo_31_12: integer (nullable = true)\n",
      " |-- faixa_etaria: integer (nullable = true)\n",
      " |-- faixa_hora_contrat: integer (nullable = true)\n",
      " |-- faixa_remun_dezem_sm: integer (nullable = true)\n",
      " |-- faixa_remun_media_sm: integer (nullable = true)\n",
      " |-- faixa_tempo_emprego: integer (nullable = true)\n",
      " |-- escolaridade_apos_2005: double (nullable = true)\n",
      " |-- qtd_hora_contr: double (nullable = true)\n",
      " |-- idade: double (nullable = true)\n",
      " |-- ind_cei_vinculado: integer (nullable = true)\n",
      " |-- ind_simples: integer (nullable = true)\n",
      " |-- mes_admissao: integer (nullable = true)\n",
      " |-- mes_desligamento: string (nullable = true)\n",
      " |-- mun_trab: integer (nullable = true)\n",
      " |-- municipio: integer (nullable = true)\n",
      " |-- nacionalidade: integer (nullable = true)\n",
      " |-- natureza_juridica: integer (nullable = true)\n",
      " |-- ind_portador_defic: integer (nullable = true)\n",
      " |-- qtd_dias_afastamento: double (nullable = true)\n",
      " |-- raca_cor: integer (nullable = true)\n",
      " |-- regioes_adm_df: integer (nullable = true)\n",
      " |-- vl_remun_dezembro_nom: string (nullable = true)\n",
      " |-- vl_remun_dezembro_sm: string (nullable = true)\n",
      " |-- vl_remun_media_nom: string (nullable = true)\n",
      " |-- vl_remun_media_sm: string (nullable = true)\n",
      " |-- cnae_2_0_subclasse: integer (nullable = true)\n",
      " |-- sexo_trabalhador: double (nullable = true)\n",
      " |-- tamanho_estabelecimento: integer (nullable = true)\n",
      " |-- tempo_emprego: string (nullable = true)\n",
      " |-- tipo_admissao: integer (nullable = true)\n",
      " |-- tipo_estab41: integer (nullable = true)\n",
      " |-- tipo_estab42: string (nullable = true)\n",
      " |-- tipo_defic: integer (nullable = true)\n",
      " |-- tipo_vinculo: integer (nullable = true)\n",
      " |-- ibge_subsetor: integer (nullable = true)\n",
      " |-- vl_rem_janeiro_sc: string (nullable = true)\n",
      " |-- vl_rem_fevereiro_sc: string (nullable = true)\n",
      " |-- vl_rem_marco_sc: string (nullable = true)\n",
      " |-- vl_rem_abril_sc: string (nullable = true)\n",
      " |-- vl_rem_maio_sc: string (nullable = true)\n",
      " |-- vl_rem_junho_sc: string (nullable = true)\n",
      " |-- vl_rem_julho_sc: string (nullable = true)\n",
      " |-- vl_rem_agosto_sc: string (nullable = true)\n",
      " |-- vl_rem_setembro_sc: string (nullable = true)\n",
      " |-- vl_rem_outubro_sc: string (nullable = true)\n",
      " |-- vl_rem_novembro_sc: string (nullable = true)\n",
      " |-- ano_chegada_brasil: integer (nullable = true)\n",
      " |-- ind_trab_intermitente: integer (nullable = true)\n",
      " |-- ind_trab_parcial: integer (nullable = true)\n",
      " |-- ano: integer (nullable = true)\n",
      " |-- uf: integer (nullable = true)"
     ]
    }
   ],
   "source": [
    "rais.printSchema()"
   ]
  },
  {
   "cell_type": "code",
   "execution_count": null,
   "id": "80afab4a-9d32-4006-a251-a2220b4af77a",
   "metadata": {
    "scrolled": true,
    "tags": []
   },
   "outputs": [],
   "source": [
    "rais.select(\n",
    "    'mes_desligamento'\n",
    ").show(10)"
   ]
  },
  {
   "cell_type": "code",
   "execution_count": 7,
   "id": "934d14af-d281-49a7-8ec9-bd06626c0a32",
   "metadata": {
    "execution": {
     "iopub.execute_input": "2022-03-13T23:17:25.731196Z",
     "iopub.status.busy": "2022-03-13T23:17:25.730973Z",
     "iopub.status.idle": "2022-03-13T23:17:26.516343Z",
     "shell.execute_reply": "2022-03-13T23:17:26.515575Z",
     "shell.execute_reply.started": "2022-03-13T23:17:25.731172Z"
    },
    "tags": []
   },
   "outputs": [
    {
     "data": {
      "application/vnd.jupyter.widget-view+json": {
       "model_id": "9b4dc53342d64dfba3c5ab925c14d5e0",
       "version_major": 2,
       "version_minor": 0
      },
      "text/plain": [
       "VBox()"
      ]
     },
     "metadata": {},
     "output_type": "display_data"
    },
    {
     "data": {
      "application/vnd.jupyter.widget-view+json": {
       "model_id": "",
       "version_major": 2,
       "version_minor": 0
      },
      "text/plain": [
       "FloatProgress(value=0.0, bar_style='info', description='Progress:', layout=Layout(height='25px', width='50%'),…"
      ]
     },
     "metadata": {},
     "output_type": "display_data"
    }
   ],
   "source": [
    "rais = (\n",
    "    rais\n",
    "    .withColumn(\"mes_desligamento\", f.col('mes_desligamento').cast('int'))\n",
    "    .withColumn(\"vl_remun_dezembro_nom\", f.regexp_replace(\"vl_remun_dezembro_nom\", ',', '.').cast('double'))\n",
    "    .withColumn(\"vl_remun_dezembro_sm\", f.regexp_replace(\"vl_remun_dezembro_sm\", ',', '.').cast('double'))\n",
    "    .withColumn(\"vl_remun_media_nom\", f.regexp_replace(\"vl_remun_media_nom\", ',', '.').cast('double'))\n",
    "    .withColumn(\"vl_remun_media_sm\", f.regexp_replace(\"vl_remun_media_sm\", ',', '.').cast('double'))\n",
    "    .withColumn(\"vl_rem_janeiro_sc\", f.regexp_replace(\"vl_rem_janeiro_sc\", ',', '.').cast('double'))\n",
    "    .withColumn(\"vl_rem_fevereiro_sc\", f.regexp_replace(\"vl_rem_fevereiro_sc\", ',', '.').cast('double'))\n",
    "    .withColumn(\"vl_rem_marco_sc\", f.regexp_replace(\"vl_rem_marco_sc\", ',', '.').cast('double'))\n",
    "    .withColumn(\"vl_rem_abril_sc\", f.regexp_replace(\"vl_rem_abril_sc\", ',', '.').cast('double'))\n",
    "    .withColumn(\"vl_rem_maio_sc\", f.regexp_replace(\"vl_rem_maio_sc\", ',', '.').cast('double'))\n",
    "    .withColumn(\"vl_rem_junho_sc\", f.regexp_replace(\"vl_rem_junho_sc\", ',', '.').cast('double'))\n",
    "    .withColumn(\"vl_rem_julho_sc\", f.regexp_replace(\"vl_rem_julho_sc\", ',', '.').cast('double'))\n",
    "    .withColumn(\"vl_rem_agosto_sc\", f.regexp_replace(\"vl_rem_agosto_sc\", ',', '.').cast('double'))\n",
    "    .withColumn(\"vl_rem_setembro_sc\", f.regexp_replace(\"vl_rem_setembro_sc\", ',', '.').cast('double'))\n",
    "    .withColumn(\"vl_rem_outubro_sc\", f.regexp_replace(\"vl_rem_outubro_sc\", ',', '.').cast('double'))\n",
    "    .withColumn(\"vl_rem_novembro_sc\", f.regexp_replace(\"vl_rem_novembro_sc\", ',', '.').cast('double'))\n",
    ")"
   ]
  },
  {
   "cell_type": "code",
   "execution_count": null,
   "id": "3cea08ea-a04d-4097-acda-711b05dddedd",
   "metadata": {
    "tags": []
   },
   "outputs": [],
   "source": [
    "(\n",
    "    rais\n",
    "    .coalesce(50)\n",
    "    .write.mode('overwrite')\n",
    "    .partitionBy('ano', 'uf')\n",
    "    .format('parquet')\n",
    "    .save('s3://igti-rodrigo-rais-prod-processing-zone-473297513108/rais/')\n",
    ")"
   ]
  },
  {
   "cell_type": "code",
   "execution_count": null,
   "id": "1593a168-4fa8-44ce-88a3-48b140573f39",
   "metadata": {},
   "outputs": [],
   "source": [
    "spark.stop()"
   ]
  },
  {
   "cell_type": "markdown",
   "id": "66a64848-b89c-45f3-9d95-cc1500387923",
   "metadata": {},
   "source": [
    "## Lê dados em Parquet para análise"
   ]
  },
  {
   "cell_type": "code",
   "execution_count": null,
   "id": "672eb8de-e4f1-4830-89d5-ac96508db2bb",
   "metadata": {
    "tags": []
   },
   "outputs": [],
   "source": [
    "rais.groupby('cnae_2_0_classe').agg(f.count(f.lit(1))).show(50)"
   ]
  },
  {
   "cell_type": "code",
   "execution_count": null,
   "id": "1908863a-4874-4776-bd6a-446e83a77088",
   "metadata": {},
   "outputs": [],
   "source": []
  }
 ],
 "metadata": {
  "kernelspec": {
   "display_name": "PySpark",
   "language": "",
   "name": "pysparkkernel"
  },
  "language_info": {
   "codemirror_mode": {
    "name": "python",
    "version": 3
   },
   "mimetype": "text/x-python",
   "name": "pyspark",
   "pygments_lexer": "python3"
  }
 },
 "nbformat": 4,
 "nbformat_minor": 5
}
